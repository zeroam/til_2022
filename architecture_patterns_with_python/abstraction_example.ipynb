{
 "cells": [
  {
   "cell_type": "markdown",
   "metadata": {},
   "source": [
    "### Do a search with urllib"
   ]
  },
  {
   "cell_type": "code",
   "execution_count": 4,
   "metadata": {},
   "outputs": [
    {
     "name": "stdout",
     "output_type": "stream",
     "text": [
      "https://duckduckgo.com/Sausage - Sausage A cylindrical meat product usually made from ground meat, often pork, beef, or veal, along...\n",
      "https://duckduckgo.com/Sausage_(band) - Sausage (band) A short-lived alternative/funk rock band featuring a reunion of the 1988 lineup of the San...\n",
      "https://duckduckgo.com/Sausage_Software - Sausage Software An Australian software company, founded by entrepreneur Steve Outtrim, which produced one of the...\n",
      "https://duckduckgo.com/dachshund - Sausage dog A short-legged, long-bodied, hound-type dog breed.\n"
     ]
    }
   ],
   "source": [
    "import json\n",
    "from urllib.request import urlopen\n",
    "from urllib.parse import urlencode\n",
    "\n",
    "params = dict(q=\"Sausages\", format=\"json\")\n",
    "handle = urlopen(\"http://api.duckduckgo.com\" + \"?\" + urlencode(params))\n",
    "raw_text = handle.read().decode(\"utf8\")\n",
    "parsed = json.loads(raw_text)\n",
    "\n",
    "results = parsed[\"RelatedTopics\"]\n",
    "for r in results:\n",
    "    if \"Text\" in r:\n",
    "        print(r[\"FirstURL\"] + \" - \" + r[\"Text\"])"
   ]
  },
  {
   "cell_type": "markdown",
   "metadata": {},
   "source": [
    "### Do a search with requests"
   ]
  },
  {
   "cell_type": "code",
   "execution_count": 6,
   "metadata": {},
   "outputs": [
    {
     "name": "stdout",
     "output_type": "stream",
     "text": [
      "https://duckduckgo.com/Sausage - Sausage A cylindrical meat product usually made from ground meat, often pork, beef, or veal, along...\n",
      "https://duckduckgo.com/Sausage_(band) - Sausage (band) A short-lived alternative/funk rock band featuring a reunion of the 1988 lineup of the San...\n",
      "https://duckduckgo.com/Sausage_Software - Sausage Software An Australian software company, founded by entrepreneur Steve Outtrim, which produced one of the...\n",
      "https://duckduckgo.com/dachshund - Sausage dog A short-legged, long-bodied, hound-type dog breed.\n"
     ]
    }
   ],
   "source": [
    "import requests\n",
    "\n",
    "params = dict(q=\"Sausages\", format=\"json\")\n",
    "parsed = requests.get(\"http://api.duckduckgo.com\", params=params).json()\n",
    "\n",
    "results = parsed[\"RelatedTopics\"]\n",
    "for r in results:\n",
    "    if \"Text\" in r:\n",
    "        print(r[\"FirstURL\"] + \" - \" + r[\"Text\"])"
   ]
  },
  {
   "cell_type": "markdown",
   "metadata": {},
   "source": [
    "### Do a search with the duckduckgo module"
   ]
  },
  {
   "cell_type": "code",
   "execution_count": 7,
   "metadata": {},
   "outputs": [
    {
     "name": "stdout",
     "output_type": "stream",
     "text": [
      "[]\n"
     ]
    }
   ],
   "source": [
    "# %pip install duckduckgo3\n",
    "import duckduckgo\n",
    "\n",
    "for r in duckduckgo.query(\"Sausages\").results:\n",
    "    print(r.url + \" - \" + r.text)"
   ]
  }
 ],
 "metadata": {
  "interpreter": {
   "hash": "838afdae3d5756addd8aa9255e71fdd45a9745bc5ba0ae3ccaa5d1e9d6b687c5"
  },
  "kernelspec": {
   "display_name": "Python 3.9.9 64-bit ('3.9.9')",
   "language": "python",
   "name": "python3"
  },
  "language_info": {
   "codemirror_mode": {
    "name": "ipython",
    "version": 3
   },
   "file_extension": ".py",
   "mimetype": "text/x-python",
   "name": "python",
   "nbconvert_exporter": "python",
   "pygments_lexer": "ipython3",
   "version": "3.9.9"
  },
  "orig_nbformat": 4
 },
 "nbformat": 4,
 "nbformat_minor": 2
}
